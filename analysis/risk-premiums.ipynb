{
 "cells": [
  {
   "cell_type": "markdown",
   "id": "91692d39-79a5-434b-89e3-d9d235f0f3be",
   "metadata": {},
   "source": [
    "# 风险溢价"
   ]
  },
  {
   "cell_type": "markdown",
   "id": "5d6030d4-d610-4d7e-a2db-ae69ec1d0034",
   "metadata": {},
   "source": [
    "## 加载模块"
   ]
  },
  {
   "cell_type": "code",
   "execution_count": 1,
   "id": "1602e36f-86a2-4ae8-9c1f-71db7fcdb193",
   "metadata": {},
   "outputs": [],
   "source": [
    "import numpy as np\n",
    "import pandas as pd\n",
    "from matplotlib import pyplot as plt\n",
    "import statsmodels.api as sm\n",
    "from numpy.lib.stride_tricks import as_strided as stride"
   ]
  },
  {
   "cell_type": "markdown",
   "id": "4e857911-f09f-4a20-9750-45e1f7d47f1c",
   "metadata": {},
   "source": [
    "## 读入文件"
   ]
  },
  {
   "cell_type": "code",
   "execution_count": 2,
   "id": "53aa1003-f825-4fdb-a848-074735dd1a03",
   "metadata": {},
   "outputs": [],
   "source": [
    "df_merge = pd.read_csv('../data/stock-accounting.csv')\n",
    "df_merge['date'] = pd.to_datetime(df_merge['date'])"
   ]
  },
  {
   "cell_type": "code",
   "execution_count": 3,
   "id": "56b80220-ff46-4d3f-8120-729d49c8e8b3",
   "metadata": {},
   "outputs": [],
   "source": [
    "df_factor = pd.read_csv('../data/F-F_Research_Data_5_Factors_2x3.csv', skiprows=3, nrows=738)\n",
    "df_factor = df_factor.rename(columns={'Unnamed: 0': 'dint'})\n",
    "df_factor['dint'] = df_factor['dint'].astype(int)\n",
    "\n",
    "time_series = df_merge['date'].unique()\n",
    "time_series = np.sort(time_series)\n",
    "df_time = pd.DataFrame({'date': time_series})\n",
    "df_time['dint'] = df_time['date'].dt.year * 100 + df_time['date'].dt.month\n",
    "df_factor = pd.merge(\n",
    "    df_time,\n",
    "    df_factor,\n",
    "    on='dint',\n",
    "    how='left'\n",
    ")"
   ]
  },
  {
   "cell_type": "markdown",
   "id": "46af233d-07ea-4fec-8aeb-41b35848df42",
   "metadata": {},
   "source": [
    "## 计算 beta"
   ]
  },
  {
   "cell_type": "markdown",
   "id": "0d8a1254-a13b-4100-a7c6-0cd9bc42e526",
   "metadata": {},
   "source": [
    "估计最大可能保留的数据行数"
   ]
  },
  {
   "cell_type": "code",
   "execution_count": 4,
   "id": "5074df37-d051-4cee-b9e2-f4b760842f28",
   "metadata": {},
   "outputs": [
    {
     "name": "stdout",
     "output_type": "stream",
     "text": [
      "901786\n"
     ]
    }
   ],
   "source": [
    "df_dura = df_merge.groupby('PERMNO')['date'].count().reset_index()\n",
    "df_dura = df_dura[df_dura['date'] >= 60]\n",
    "print(df_dura['date'].sum() - 60 * df_dura.shape[0])"
   ]
  },
  {
   "cell_type": "markdown",
   "id": "c79351b8-a646-45ff-b62d-48ef773d2607",
   "metadata": {},
   "source": [
    "`Pandas.DataFrame.rolling.apply()` 不能多列返回多列，故使用网友提供的自建 `roll()` 函数\n",
    "\n",
    "来源：[DataFrame rolling apply 多列 return 多列](https://zhuanlan.zhihu.com/p/91100281)"
   ]
  },
  {
   "cell_type": "code",
   "execution_count": 71,
   "id": "13c744a2-67dc-4bc4-ba95-8732220de64b",
   "metadata": {},
   "outputs": [],
   "source": [
    "def roll(df: pd.DataFrame, window: int, **kwargs):\n",
    "    v = df.reset_index().values\n",
    "    dim0, dim1 = v.shape\n",
    "    stride0, stride1 = v.strides\n",
    "    stride_values = stride(v, (dim0 - (window - 1), window, dim1), (stride0, stride0, stride1))\n",
    "\n",
    "    rolled_df = pd.concat({\n",
    "        row: pd.DataFrame(values[:, 1:], columns=df.columns, index=values[:, 0].flatten())\n",
    "        for row, values in zip(df.index[window - 1:], stride_values)\n",
    "    })\n",
    "    return rolled_df.groupby(level=0, **kwargs)\n",
    "\n",
    "def roll_np(df: pd.DataFrame, apply_func: callable, window: int,\n",
    "         return_col_num: int, **kwargs):\n",
    "    v = df.reset_index().values\n",
    "    dim0, dim1 = v.shape\n",
    "    stride0, stride1 = v.strides\n",
    "\n",
    "    stride_values = stride(v, (dim0 - (window - 1), window, dim1), (stride0, stride0, stride1))\n",
    "    result_values = np.full((dim0, return_col_num), np.nan)\n",
    "    for idx, values in enumerate(stride_values, window - 1):\n",
    "        result_values[idx, ] = apply_func(values, **kwargs)\n",
    "\n",
    "    return result_values"
   ]
  },
  {
   "cell_type": "markdown",
   "id": "39a0b407-925e-490d-8226-fa61db5e04e0",
   "metadata": {},
   "source": [
    "定义函数：`beta` 回归、滚动窗口回归"
   ]
  },
  {
   "cell_type": "code",
   "execution_count": 100,
   "id": "ec25cc7f-09c8-4e5b-98aa-b32ed0da6d5b",
   "metadata": {},
   "outputs": [],
   "source": [
    "def beta_reg(df_stock):\n",
    "    dfs = df_stock\n",
    "    x = sm.add_constant(dfs['Mkt-RF']).astype(float)\n",
    "    y = dfs['RET-RF'].astype(float)\n",
    "    result = sm.OLS(y, x).fit()\n",
    "    return result.params['Mkt-RF']\n",
    "\n",
    "def rolling_reg(df_stock):\n",
    "    dfs = df_stock.copy()\n",
    "    if dfs.shape[0] < 60:\n",
    "        return pd.Series(np.nan, index=np.arange(dfs.shape[0]))\n",
    "    else:\n",
    "        return roll(dfs, 60).apply(beta_reg)\n",
    "\n",
    "def beta_reg_np(df_stock):\n",
    "    '''\n",
    "    df_stock 至少需要包含列: ['RET-RF', 'Mkt-RF']\n",
    "    '''\n",
    "    x = df_stock[:, 2]\n",
    "    x = np.column_stack([np.ones(x.size), x])\n",
    "    y = df_stock[:, 1]\n",
    "    result = sm.OLS(y, x).fit()\n",
    "    return result.params[1]\n",
    "\n",
    "def rolling_reg_np(df_stock):\n",
    "    '''\n",
    "    df_stock 至少需要包含列: ['RET-RF', 'Mkt-RF']\n",
    "    '''\n",
    "    dfs = df_stock.copy()\n",
    "    if dfs.shape[0] < 60:\n",
    "        return pd.Series(np.nan, index=dfs.index, name='beta')\n",
    "    else:\n",
    "        result_np = roll_np(df=dfs[['RET-RF', 'Mkt-RF']], apply_func=beta_reg_np,\n",
    "                            window=60, return_col_num=1)\n",
    "        result_np = result_np.T[0]\n",
    "        return pd.Series(result_np, index=dfs.index, name='beta')"
   ]
  },
  {
   "cell_type": "markdown",
   "id": "a4983ddc-67e3-416a-aec3-b10d9383bfee",
   "metadata": {},
   "source": [
    "计算 `beta`"
   ]
  },
  {
   "cell_type": "code",
   "execution_count": 7,
   "id": "390897fc-aba0-49e8-8bf5-297b66bb8a4a",
   "metadata": {},
   "outputs": [],
   "source": [
    "df_merge = pd.merge(\n",
    "    df_merge,\n",
    "    df_factor[['date', 'Mkt-RF', 'RF']],\n",
    "    on='date', how='left'\n",
    ")\n",
    "df_merge[['Mkt-RF', 'RF']] *= 0.01"
   ]
  },
  {
   "cell_type": "code",
   "execution_count": 92,
   "id": "48b4e740-a0da-4614-a071-f9302b2053b1",
   "metadata": {},
   "outputs": [
    {
     "name": "stdout",
     "output_type": "stream",
     "text": [
      "CPU times: total: 3min 3s\n",
      "Wall time: 3min 4s\n"
     ]
    }
   ],
   "source": [
    "%%time\n",
    "df_merge['RET-RF'] = df_merge['RET'] - df_merge['RF']\n",
    "df_beta = df_merge.groupby('PERMNO')[['RET-RF', 'Mkt-RF']].apply(rolling_reg_np).reset_index()"
   ]
  },
  {
   "cell_type": "code",
   "execution_count": 99,
   "id": "ec316a6a-f701-43c4-9f4a-b4c15f47363e",
   "metadata": {},
   "outputs": [],
   "source": [
    "df_merge['beta'] = df_beta['beta']"
   ]
  },
  {
   "cell_type": "markdown",
   "id": "7f1748f1-9a7f-454f-9682-0382c896f8a3",
   "metadata": {},
   "source": [
    "## Fama-MacBeth 回归"
   ]
  },
  {
   "cell_type": "markdown",
   "id": "8fd6824e-ac5b-40c8-b96f-2867fd481039",
   "metadata": {},
   "source": [
    "剔除 `nan` 数据"
   ]
  },
  {
   "cell_type": "code",
   "execution_count": 104,
   "id": "8a109d29-e098-4d57-99ad-4edd74b1b081",
   "metadata": {},
   "outputs": [
    {
     "data": {
      "text/plain": [
       "790998"
      ]
     },
     "execution_count": 104,
     "metadata": {},
     "output_type": "execute_result"
    }
   ],
   "source": [
    "idx_fac = ['beta', 'market-cap', 'book-to-market', 'profit', 'investment', 'past-return']\n",
    "df_fit = df_merge[['stg', 'RET-RF'] + idx_fac]\n",
    "df_fit = df_fit.dropna()\n",
    "df_fit.shape[0]"
   ]
  },
  {
   "cell_type": "markdown",
   "id": "d57fbf93-9bdf-476b-bc08-45d6ab0b4b43",
   "metadata": {},
   "source": [
    "## 风险溢价估计"
   ]
  },
  {
   "cell_type": "markdown",
   "id": "7acb14db-53d0-4c9a-a962-93eabecdc2c1",
   "metadata": {},
   "source": [
    "## 多空投资组合"
   ]
  },
  {
   "cell_type": "markdown",
   "id": "a1fa4ee6-378c-415a-85f9-f59e92c2c459",
   "metadata": {},
   "source": [
    "## 滚动窗口估值"
   ]
  },
  {
   "cell_type": "markdown",
   "id": "8108326a-bcc0-4bf2-a7a4-e3c032883767",
   "metadata": {},
   "source": [
    "## EXHIBIT 9"
   ]
  }
 ],
 "metadata": {
  "kernelspec": {
   "display_name": "Python 3 (ipykernel)",
   "language": "python",
   "name": "python3"
  },
  "language_info": {
   "codemirror_mode": {
    "name": "ipython",
    "version": 3
   },
   "file_extension": ".py",
   "mimetype": "text/x-python",
   "name": "python",
   "nbconvert_exporter": "python",
   "pygments_lexer": "ipython3",
   "version": "3.13.2"
  }
 },
 "nbformat": 4,
 "nbformat_minor": 5
}
