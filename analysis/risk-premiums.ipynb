{
 "cells": [
  {
   "cell_type": "markdown",
   "id": "91692d39-79a5-434b-89e3-d9d235f0f3be",
   "metadata": {},
   "source": [
    "# 风险溢价"
   ]
  },
  {
   "cell_type": "markdown",
   "id": "5d6030d4-d610-4d7e-a2db-ae69ec1d0034",
   "metadata": {},
   "source": [
    "## 加载模块"
   ]
  },
  {
   "cell_type": "code",
   "execution_count": 1,
   "id": "1602e36f-86a2-4ae8-9c1f-71db7fcdb193",
   "metadata": {},
   "outputs": [],
   "source": [
    "import numpy as np\n",
    "import pandas as pd\n",
    "from matplotlib import pyplot as plt\n",
    "import statsmodels.api as sm"
   ]
  },
  {
   "cell_type": "markdown",
   "id": "4e857911-f09f-4a20-9750-45e1f7d47f1c",
   "metadata": {},
   "source": [
    "## 读入文件"
   ]
  },
  {
   "cell_type": "code",
   "execution_count": 2,
   "id": "53aa1003-f825-4fdb-a848-074735dd1a03",
   "metadata": {},
   "outputs": [],
   "source": [
    "df_merge = pd.read_csv('../data/stock-accounting.csv')\n",
    "df_merge['date'] = pd.to_datetime(df_merge['date'])"
   ]
  },
  {
   "cell_type": "markdown",
   "id": "7f1748f1-9a7f-454f-9682-0382c896f8a3",
   "metadata": {},
   "source": [
    "## Fama-MacBeth 回归"
   ]
  },
  {
   "cell_type": "markdown",
   "id": "d57fbf93-9bdf-476b-bc08-45d6ab0b4b43",
   "metadata": {},
   "source": [
    "## 风险溢价估计"
   ]
  },
  {
   "cell_type": "markdown",
   "id": "7acb14db-53d0-4c9a-a962-93eabecdc2c1",
   "metadata": {},
   "source": [
    "## 多空投资组合"
   ]
  },
  {
   "cell_type": "markdown",
   "id": "a1fa4ee6-378c-415a-85f9-f59e92c2c459",
   "metadata": {},
   "source": [
    "## 滚动窗口估值"
   ]
  },
  {
   "cell_type": "markdown",
   "id": "8108326a-bcc0-4bf2-a7a4-e3c032883767",
   "metadata": {},
   "source": [
    "## EXHIBIT 9"
   ]
  }
 ],
 "metadata": {
  "kernelspec": {
   "display_name": "Python 3 (ipykernel)",
   "language": "python",
   "name": "python3"
  },
  "language_info": {
   "codemirror_mode": {
    "name": "ipython",
    "version": 3
   },
   "file_extension": ".py",
   "mimetype": "text/x-python",
   "name": "python",
   "nbconvert_exporter": "python",
   "pygments_lexer": "ipython3",
   "version": "3.13.2"
  }
 },
 "nbformat": 4,
 "nbformat_minor": 5
}
