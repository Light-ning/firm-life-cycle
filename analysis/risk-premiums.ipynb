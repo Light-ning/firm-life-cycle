{
 "cells": [
  {
   "cell_type": "markdown",
   "id": "91692d39-79a5-434b-89e3-d9d235f0f3be",
   "metadata": {},
   "source": [
    "# 风险溢价"
   ]
  },
  {
   "cell_type": "markdown",
   "id": "5d6030d4-d610-4d7e-a2db-ae69ec1d0034",
   "metadata": {},
   "source": [
    "## 加载模块"
   ]
  },
  {
   "cell_type": "code",
   "execution_count": 1,
   "id": "1602e36f-86a2-4ae8-9c1f-71db7fcdb193",
   "metadata": {},
   "outputs": [],
   "source": [
    "import numpy as np\n",
    "import pandas as pd\n",
    "from matplotlib import pyplot as plt\n",
    "from scipy.stats import mstats\n",
    "import statsmodels.api as sm\n",
    "from numpy.lib.stride_tricks import as_strided as stride"
   ]
  },
  {
   "cell_type": "markdown",
   "id": "4e857911-f09f-4a20-9750-45e1f7d47f1c",
   "metadata": {},
   "source": [
    "## 读入文件"
   ]
  },
  {
   "cell_type": "code",
   "execution_count": 2,
   "id": "53aa1003-f825-4fdb-a848-074735dd1a03",
   "metadata": {},
   "outputs": [],
   "source": [
    "df_merge = pd.read_csv('../data/stock-accounting.csv')\n",
    "df_merge['date'] = pd.to_datetime(df_merge['date'])"
   ]
  },
  {
   "cell_type": "markdown",
   "id": "7f1748f1-9a7f-454f-9682-0382c896f8a3",
   "metadata": {},
   "source": [
    "## Fama-MacBeth 回归"
   ]
  },
  {
   "cell_type": "markdown",
   "id": "ff1562c9-436f-42f5-8517-b94be52d8239",
   "metadata": {},
   "source": [
    "剔除 `nan` 数据"
   ]
  },
  {
   "cell_type": "code",
   "execution_count": 10,
   "id": "8a109d29-e098-4d57-99ad-4edd74b1b081",
   "metadata": {},
   "outputs": [
    {
     "data": {
      "text/plain": [
       "986307"
      ]
     },
     "execution_count": 10,
     "metadata": {},
     "output_type": "execute_result"
    }
   ],
   "source": [
    "idx_fac = ['beta', 'market-cap', 'book-to-market', 'profit', 'investment', 'past-return']\n",
    "par = ['const'] + idx_fac\n",
    "df_fit = df_merge[['PERMNO', 'date', 'stg', 'RET-RF'] + idx_fac].copy()\n",
    "df_fit['market-cap'] = df_fit['market-cap'].apply(np.log)\n",
    "df_fit[idx_fac] = df_fit.groupby('PERMNO')[idx_fac].shift(1)\n",
    "df_fit = df_fit.replace([np.inf, -np.inf], np.nan)\n",
    "df_fit = df_fit.dropna()\n",
    "df_fit[idx_fac] = df_fit[idx_fac].apply(mstats.winsorize, limits=[0.01, 0.01])\n",
    "df_fit.shape[0]"
   ]
  },
  {
   "cell_type": "code",
   "execution_count": 13,
   "id": "44853663-1bb2-4ab1-a173-e50c986cf9f6",
   "metadata": {},
   "outputs": [
    {
     "data": {
      "text/plain": [
       "const             1.032627\n",
       "beta              0.110572\n",
       "market-cap       -0.210257\n",
       "book-to-market    0.446862\n",
       "profit            0.295573\n",
       "investment        -0.24141\n",
       "past-return       0.243864\n",
       "dtype: object"
      ]
     },
     "execution_count": 13,
     "metadata": {},
     "output_type": "execute_result"
    }
   ],
   "source": [
    "time_series = df_fit['date'].unique()\n",
    "time_series = np.sort(time_series)\n",
    "\n",
    "df_params = pd.DataFrame(columns=['date'] + par)\n",
    "\n",
    "for i, t in enumerate(time_series):\n",
    "    df_date = df_fit[(df_fit['stg'] != 'Unknown') & (df_fit['date'] == t)].copy()\n",
    "    x = df_date[idx_fac]\n",
    "    z = (x - x.mean()) / x.std()\n",
    "    z = z.clip(-3, 3)\n",
    "    z = sm.add_constant(z)\n",
    "    y = df_date['RET-RF']\n",
    "    result = sm.OLS(y, z).fit()\n",
    "    df_params.loc[i, 'date'] = t\n",
    "    df_params.loc[i, par] = result.params\n",
    "df_params[par].mean() * 100"
   ]
  },
  {
   "cell_type": "markdown",
   "id": "7acb14db-53d0-4c9a-a962-93eabecdc2c1",
   "metadata": {},
   "source": [
    "## 多空投资组合"
   ]
  },
  {
   "cell_type": "markdown",
   "id": "a1fa4ee6-378c-415a-85f9-f59e92c2c459",
   "metadata": {},
   "source": [
    "## 滚动窗口估值"
   ]
  },
  {
   "cell_type": "markdown",
   "id": "8108326a-bcc0-4bf2-a7a4-e3c032883767",
   "metadata": {},
   "source": [
    "## EXHIBIT 9"
   ]
  }
 ],
 "metadata": {
  "kernelspec": {
   "display_name": "Python 3 (ipykernel)",
   "language": "python",
   "name": "python3"
  },
  "language_info": {
   "codemirror_mode": {
    "name": "ipython",
    "version": 3
   },
   "file_extension": ".py",
   "mimetype": "text/x-python",
   "name": "python",
   "nbconvert_exporter": "python",
   "pygments_lexer": "ipython3",
   "version": "3.13.2"
  }
 },
 "nbformat": 4,
 "nbformat_minor": 5
}
